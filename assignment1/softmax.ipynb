{
 "cells": [
  {
   "cell_type": "markdown",
   "metadata": {},
   "source": [
    "# Softmax exercise\n",
    "\n",
    "*Complete and hand in this completed worksheet (including its outputs and any supporting code outside of the worksheet) with your assignment submission. For more details see the [assignments page](http://vision.stanford.edu/teaching/cs231n/assignments.html) on the course website.*\n",
    "\n",
    "This exercise is analogous to the SVM exercise. You will:\n",
    "\n",
    "- implement a fully-vectorized **loss function** for the Softmax classifier\n",
    "- implement the fully-vectorized expression for its **analytic gradient**\n",
    "- **check your implementation** with numerical gradient\n",
    "- use a validation set to **tune the learning rate and regularization** strength\n",
    "- **optimize** the loss function with **SGD**\n",
    "- **visualize** the final learned weights\n"
   ]
  },
  {
   "cell_type": "code",
   "execution_count": 1,
   "metadata": {
    "collapsed": false
   },
   "outputs": [],
   "source": [
    "import random\n",
    "import numpy as np\n",
    "from cs231n.data_utils import load_CIFAR10\n",
    "import matplotlib.pyplot as plt\n",
    "%matplotlib inline\n",
    "plt.rcParams['figure.figsize'] = (10.0, 8.0) # set default size of plots\n",
    "plt.rcParams['image.interpolation'] = 'nearest'\n",
    "plt.rcParams['image.cmap'] = 'gray'\n",
    "\n",
    "# for auto-reloading extenrnal modules\n",
    "# see http://stackoverflow.com/questions/1907993/autoreload-of-modules-in-ipython\n",
    "%load_ext autoreload\n",
    "%autoreload 2"
   ]
  },
  {
   "cell_type": "code",
   "execution_count": 2,
   "metadata": {
    "collapsed": false
   },
   "outputs": [
    {
     "name": "stdout",
     "output_type": "stream",
     "text": [
      "Train data shape:  (49000, 3073)\n",
      "Train labels shape:  (49000,)\n",
      "Validation data shape:  (1000, 3073)\n",
      "Validation labels shape:  (1000,)\n",
      "Test data shape:  (1000, 3073)\n",
      "Test labels shape:  (1000,)\n",
      "dev data shape:  (500, 3073)\n",
      "dev labels shape:  (500,)\n"
     ]
    }
   ],
   "source": [
    "def get_CIFAR10_data(num_training=49000, num_validation=1000, num_test=1000, num_dev=500):\n",
    "  \"\"\"\n",
    "  Load the CIFAR-10 dataset from disk and perform preprocessing to prepare\n",
    "  it for the linear classifier. These are the same steps as we used for the\n",
    "  SVM, but condensed to a single function.  \n",
    "  \"\"\"\n",
    "  # Load the raw CIFAR-10 data\n",
    "  cifar10_dir = 'cs231n/datasets/cifar-10-batches-py'\n",
    "  X_train, y_train, X_test, y_test = load_CIFAR10(cifar10_dir)\n",
    "  \n",
    "  # subsample the data\n",
    "  mask = range(num_training, num_training + num_validation)\n",
    "  X_val = X_train[mask]\n",
    "  y_val = y_train[mask]\n",
    "  mask = range(num_training)\n",
    "  X_train = X_train[mask]\n",
    "  y_train = y_train[mask]\n",
    "  mask = range(num_test)\n",
    "  X_test = X_test[mask]\n",
    "  y_test = y_test[mask]\n",
    "  mask = np.random.choice(num_training, num_dev, replace=False)\n",
    "  X_dev = X_train[mask]\n",
    "  y_dev = y_train[mask]\n",
    "  \n",
    "  # Preprocessing: reshape the image data into rows\n",
    "  X_train = np.reshape(X_train, (X_train.shape[0], -1))\n",
    "  X_val = np.reshape(X_val, (X_val.shape[0], -1))\n",
    "  X_test = np.reshape(X_test, (X_test.shape[0], -1))\n",
    "  X_dev = np.reshape(X_dev, (X_dev.shape[0], -1))\n",
    "  \n",
    "  # Normalize the data: subtract the mean image\n",
    "  mean_image = np.mean(X_train, axis = 0)\n",
    "  X_train -= mean_image\n",
    "  X_val -= mean_image\n",
    "  X_test -= mean_image\n",
    "  X_dev -= mean_image\n",
    "  \n",
    "  # add bias dimension and transform into columns\n",
    "  X_train = np.hstack([X_train, np.ones((X_train.shape[0], 1))])\n",
    "  X_val = np.hstack([X_val, np.ones((X_val.shape[0], 1))])\n",
    "  X_test = np.hstack([X_test, np.ones((X_test.shape[0], 1))])\n",
    "  X_dev = np.hstack([X_dev, np.ones((X_dev.shape[0], 1))])\n",
    "  \n",
    "  return X_train, y_train, X_val, y_val, X_test, y_test, X_dev, y_dev\n",
    "\n",
    "\n",
    "# Invoke the above function to get our data.\n",
    "X_train, y_train, X_val, y_val, X_test, y_test, X_dev, y_dev = get_CIFAR10_data()\n",
    "print 'Train data shape: ', X_train.shape\n",
    "print 'Train labels shape: ', y_train.shape\n",
    "print 'Validation data shape: ', X_val.shape\n",
    "print 'Validation labels shape: ', y_val.shape\n",
    "print 'Test data shape: ', X_test.shape\n",
    "print 'Test labels shape: ', y_test.shape\n",
    "print 'dev data shape: ', X_dev.shape\n",
    "print 'dev labels shape: ', y_dev.shape"
   ]
  },
  {
   "cell_type": "markdown",
   "metadata": {},
   "source": [
    "## Softmax Classifier\n",
    "\n",
    "Your code for this section will all be written inside **cs231n/classifiers/softmax.py**. \n"
   ]
  },
  {
   "cell_type": "code",
   "execution_count": 11,
   "metadata": {
    "collapsed": false
   },
   "outputs": [
    {
     "name": "stdout",
     "output_type": "stream",
     "text": [
      "loss: 2.341841\n",
      "sanity check: 2.302585\n"
     ]
    }
   ],
   "source": [
    "# First implement the naive softmax loss function with nested loops.\n",
    "# Open the file cs231n/classifiers/softmax.py and implement the\n",
    "# softmax_loss_naive function.\n",
    "\n",
    "from cs231n.classifiers.softmax import softmax_loss_naive\n",
    "import time\n",
    "\n",
    "# Generate a random softmax weight matrix and use it to compute the loss.\n",
    "W = np.random.randn(3073, 10) * 0.0001\n",
    "loss, grad = softmax_loss_naive(W, X_dev, y_dev, 0.0)\n",
    "\n",
    "# As a rough sanity check, our loss should be something close to -log(0.1).\n",
    "print 'loss: %f' % loss\n",
    "print 'sanity check: %f' % (-np.log(0.1))"
   ]
  },
  {
   "cell_type": "markdown",
   "metadata": {},
   "source": [
    "## Inline Question 1:\n",
    "Why do we expect our loss to be close to -log(0.1)? Explain briefly.**\n",
    "\n",
    "**Your answer:** *Fill this in*\n"
   ]
  },
  {
   "cell_type": "code",
   "execution_count": null,
   "metadata": {
    "collapsed": true
   },
   "outputs": [],
   "source": []
  },
  {
   "cell_type": "code",
   "execution_count": 13,
   "metadata": {
    "collapsed": false
   },
   "outputs": [
    {
     "name": "stdout",
     "output_type": "stream",
     "text": [
      "numerical: -0.441861 analytic: -0.441861, relative error: 8.841714e-08\n",
      "numerical: 0.298131 analytic: 0.298131, relative error: 7.118662e-08\n",
      "numerical: -1.165897 analytic: -1.165897, relative error: 9.898248e-09\n",
      "numerical: -0.716819 analytic: -0.716819, relative error: 7.575642e-09\n",
      "numerical: -0.584366 analytic: -0.584366, relative error: 4.998815e-09\n",
      "numerical: -0.756204 analytic: -0.756204, relative error: 3.444821e-08\n",
      "numerical: -2.240142 analytic: -2.240142, relative error: 3.496349e-09\n",
      "numerical: 0.600051 analytic: 0.600051, relative error: 2.924334e-09\n",
      "numerical: 1.181723 analytic: 1.181723, relative error: 2.951603e-09\n",
      "numerical: -5.272579 analytic: -5.272579, relative error: 3.872821e-11\n",
      "numerical: 2.622038 analytic: 2.622038, relative error: 4.989068e-08\n",
      "numerical: -2.335069 analytic: -2.335069, relative error: 8.923087e-09\n",
      "numerical: -0.049953 analytic: -0.049953, relative error: 5.590713e-08\n",
      "numerical: 2.673143 analytic: 2.673143, relative error: 1.806766e-08\n",
      "numerical: -2.314193 analytic: -2.314194, relative error: 2.862237e-08\n",
      "numerical: 1.866621 analytic: 1.866621, relative error: 2.388858e-08\n",
      "numerical: -4.005821 analytic: -4.005821, relative error: 2.083201e-10\n",
      "numerical: -3.419787 analytic: -3.419787, relative error: 3.138713e-09\n",
      "numerical: 0.996623 analytic: 0.996623, relative error: 2.709930e-08\n",
      "numerical: -2.325380 analytic: -2.325380, relative error: 1.907223e-08\n"
     ]
    }
   ],
   "source": [
    "# Complete the implementation of softmax_loss_naive and implement a (naive)\n",
    "# version of the gradient that uses nested loops.\n",
    "loss, grad = softmax_loss_naive(W, X_dev, y_dev, 0.0)\n",
    "\n",
    "# As we did for the SVM, use numeric gradient checking as a debugging tool.\n",
    "# The numeric gradient should be close to the analytic gradient.\n",
    "from cs231n.gradient_check import grad_check_sparse\n",
    "f = lambda w: softmax_loss_naive(w, X_dev, y_dev, 0.0)[0]\n",
    "grad_numerical = grad_check_sparse(f, W, grad, 10)\n",
    "\n",
    "# similar to SVM case, do another gradient check with regularization\n",
    "loss, grad = softmax_loss_naive(W, X_dev, y_dev, 1e2)\n",
    "f = lambda w: softmax_loss_naive(w, X_dev, y_dev, 1e2)[0]\n",
    "grad_numerical = grad_check_sparse(f, W, grad, 10)"
   ]
  },
  {
   "cell_type": "code",
   "execution_count": 86,
   "metadata": {
    "collapsed": false
   },
   "outputs": [
    {
     "name": "stdout",
     "output_type": "stream",
     "text": [
      "naive loss: 2.341841e+00 computed in 1.009593s\n",
      "vectorized loss: 2.341841e+00 computed in 0.036128s\n",
      "Loss difference: 0.000000\n",
      "Gradient difference: 0.000000\n"
     ]
    }
   ],
   "source": [
    "# Now that we have a naive implementation of the softmax loss function and its gradient,\n",
    "# implement a vectorized version in softmax_loss_vectorized.\n",
    "# The two versions should compute the same results, but the vectorized version should be\n",
    "# much faster.\n",
    "tic = time.time()\n",
    "loss_naive, grad_naive = softmax_loss_naive(W, X_dev, y_dev, 0.00001)\n",
    "toc = time.time()\n",
    "print 'naive loss: %e computed in %fs' % (loss_naive, toc - tic)\n",
    "\n",
    "from cs231n.classifiers.softmax import softmax_loss_vectorized\n",
    "tic = time.time()\n",
    "loss_vectorized, grad_vectorized = softmax_loss_vectorized(W, X_dev, y_dev, 0.00001)\n",
    "toc = time.time()\n",
    "print 'vectorized loss: %e computed in %fs' % (loss_vectorized, toc - tic)\n",
    "\n",
    "# As we did for the SVM, we use the Frobenius norm to compare the two versions\n",
    "# of the gradient.\n",
    "grad_difference = np.linalg.norm(grad_naive - grad_vectorized, ord='fro')\n",
    "print 'Loss difference: %f' % np.abs(loss_naive - loss_vectorized)\n",
    "print 'Gradient difference: %f' % grad_difference"
   ]
  },
  {
   "cell_type": "code",
   "execution_count": 89,
   "metadata": {
    "collapsed": false
   },
   "outputs": [
    {
     "name": "stdout",
     "output_type": "stream",
     "text": [
      "iteration 0 / 1600: loss 160.873981\n",
      "iteration 100 / 1600: loss 144.798290\n",
      "iteration 200 / 1600: loss 130.724358\n",
      "iteration 300 / 1600: loss 118.245375\n",
      "iteration 400 / 1600: loss 106.671338\n",
      "iteration 500 / 1600: loss 96.547958\n",
      "iteration 600 / 1600: loss 87.448090\n",
      "iteration 700 / 1600: loss 79.170954\n",
      "iteration 800 / 1600: loss 71.693464\n",
      "iteration 900 / 1600: loss 65.122255\n",
      "iteration 1000 / 1600: loss 59.022945\n",
      "iteration 1100 / 1600: loss 53.454270\n",
      "iteration 1200 / 1600: loss 48.494669\n",
      "iteration 1300 / 1600: loss 44.042450\n",
      "iteration 1400 / 1600: loss 39.980843\n",
      "iteration 1500 / 1600: loss 36.299823\n",
      "iteration 0 / 1600: loss 773.388616\n",
      "iteration 100 / 1600: loss 468.552545\n",
      "iteration 200 / 1600: loss 284.275112\n",
      "iteration 300 / 1600: loss 172.754624\n",
      "iteration 400 / 1600: loss 105.447549\n",
      "iteration 500 / 1600: loss 64.603786\n",
      "iteration 600 / 1600: loss 39.898632\n",
      "iteration 700 / 1600: loss 25.082291\n",
      "iteration 800 / 1600: loss 15.967087\n",
      "iteration 900 / 1600: loss 10.513938\n",
      "iteration 1000 / 1600: loss 7.198763\n",
      "iteration 1100 / 1600: loss 5.149941\n",
      "iteration 1200 / 1600: loss 3.943934\n",
      "iteration 1300 / 1600: loss 3.207059\n",
      "iteration 1400 / 1600: loss 2.738280\n",
      "iteration 1500 / 1600: loss 2.501458\n",
      "iteration 0 / 1600: loss 1531.341516\n",
      "iteration 100 / 1600: loss 562.146535\n",
      "iteration 200 / 1600: loss 207.189037\n",
      "iteration 300 / 1600: loss 77.295222\n",
      "iteration 400 / 1600: loss 29.644581\n",
      "iteration 500 / 1600: loss 12.219557\n",
      "iteration 600 / 1600: loss 5.818511\n",
      "iteration 700 / 1600: loss 3.531677\n",
      "iteration 800 / 1600: loss 2.610558\n",
      "iteration 900 / 1600: loss 2.352778\n",
      "iteration 1000 / 1600: loss 2.219053\n",
      "iteration 1100 / 1600: loss 2.151004\n",
      "iteration 1200 / 1600: loss 2.110885\n",
      "iteration 1300 / 1600: loss 2.119266\n",
      "iteration 1400 / 1600: loss 2.153780\n",
      "iteration 1500 / 1600: loss 2.146040\n",
      "iteration 0 / 1600: loss 157.530601\n",
      "iteration 100 / 1600: loss 128.178030\n",
      "iteration 200 / 1600: loss 104.394966\n",
      "iteration 300 / 1600: loss 85.612416\n",
      "iteration 400 / 1600: loss 70.269708\n",
      "iteration 500 / 1600: loss 57.761087\n",
      "iteration 600 / 1600: loss 47.408653\n",
      "iteration 700 / 1600: loss 39.087711\n",
      "iteration 800 / 1600: loss 32.333513\n",
      "iteration 900 / 1600: loss 26.773983\n",
      "iteration 1000 / 1600: loss 22.157596\n",
      "iteration 1100 / 1600: loss 18.507219\n",
      "iteration 1200 / 1600: loss 15.549939\n",
      "iteration 1300 / 1600: loss 13.037778\n",
      "iteration 1400 / 1600: loss 11.103617\n",
      "iteration 1500 / 1600: loss 9.271567\n",
      "iteration 0 / 1600: loss 773.637824\n",
      "iteration 100 / 1600: loss 284.034882\n",
      "iteration 200 / 1600: loss 105.154717\n",
      "iteration 300 / 1600: loss 39.885165\n",
      "iteration 400 / 1600: loss 15.937250\n",
      "iteration 500 / 1600: loss 7.120686\n",
      "iteration 600 / 1600: loss 3.870702\n",
      "iteration 700 / 1600: loss 2.774024\n",
      "iteration 800 / 1600: loss 2.255404\n",
      "iteration 900 / 1600: loss 2.066312\n",
      "iteration 1000 / 1600: loss 2.149545\n",
      "iteration 1100 / 1600: loss 2.092613\n",
      "iteration 1200 / 1600: loss 2.075977\n",
      "iteration 1300 / 1600: loss 2.110925\n",
      "iteration 1400 / 1600: loss 2.121945\n",
      "iteration 1500 / 1600: loss 2.060095\n",
      "iteration 0 / 1600: loss 1538.621286\n",
      "iteration 100 / 1600: loss 207.283589\n",
      "iteration 200 / 1600: loss 29.489946\n",
      "iteration 300 / 1600: loss 5.813142\n",
      "iteration 400 / 1600: loss 2.643835\n",
      "iteration 500 / 1600: loss 2.258973\n",
      "iteration 600 / 1600: loss 2.163203\n",
      "iteration 700 / 1600: loss 2.126039\n",
      "iteration 800 / 1600: loss 2.134641\n",
      "iteration 900 / 1600: loss 2.134711\n",
      "iteration 1000 / 1600: loss 2.124928\n",
      "iteration 1100 / 1600: loss 2.143284\n",
      "iteration 1200 / 1600: loss 2.133412\n",
      "iteration 1300 / 1600: loss 2.118977\n",
      "iteration 1400 / 1600: loss 2.151140\n",
      "iteration 1500 / 1600: loss 2.168255\n",
      "iteration 0 / 1600: loss 157.039234\n",
      "iteration 100 / 1600: loss 57.810009\n",
      "iteration 200 / 1600: loss 22.277948\n",
      "iteration 300 / 1600: loss 9.324578\n",
      "iteration 400 / 1600: loss 4.659686\n",
      "iteration 500 / 1600: loss 2.919618\n",
      "iteration 600 / 1600: loss 2.235866\n",
      "iteration 700 / 1600: loss 1.999593\n",
      "iteration 800 / 1600: loss 1.931976\n",
      "iteration 900 / 1600: loss 1.934790\n",
      "iteration 1000 / 1600: loss 1.945450\n",
      "iteration 1100 / 1600: loss 1.919561\n",
      "iteration 1200 / 1600: loss 1.991571\n",
      "iteration 1300 / 1600: loss 1.953466\n",
      "iteration 1400 / 1600: loss 1.942595\n",
      "iteration 1500 / 1600: loss 1.894552\n",
      "iteration 0 / 1600: loss 772.004960\n",
      "iteration 100 / 1600: loss 6.855147\n",
      "iteration 200 / 1600: loss 2.164989\n",
      "iteration 300 / 1600: loss 2.046937\n",
      "iteration 400 / 1600: loss 2.064934\n",
      "iteration 500 / 1600: loss 2.090773\n",
      "iteration 600 / 1600: loss 2.152713\n",
      "iteration 700 / 1600: loss 2.084676\n",
      "iteration 800 / 1600: loss 2.079997\n",
      "iteration 900 / 1600: loss 2.057177\n",
      "iteration 1000 / 1600: loss 2.125423\n",
      "iteration 1100 / 1600: loss 2.096342\n",
      "iteration 1200 / 1600: loss 2.122795\n",
      "iteration 1300 / 1600: loss 2.090922\n",
      "iteration 1400 / 1600: loss 2.108423\n",
      "iteration 1500 / 1600: loss 2.068616\n",
      "iteration 0 / 1600: loss 1543.420545\n",
      "iteration 100 / 1600: loss 2.151719\n",
      "iteration 200 / 1600: loss 2.150859\n",
      "iteration 300 / 1600: loss 2.140345\n",
      "iteration 400 / 1600: loss 2.160250\n",
      "iteration 500 / 1600: loss 2.179645\n",
      "iteration 600 / 1600: loss 2.143083\n",
      "iteration 700 / 1600: loss 2.165368\n",
      "iteration 800 / 1600: loss 2.092607\n",
      "iteration 900 / 1600: loss 2.193782\n",
      "iteration 1000 / 1600: loss 2.133651\n",
      "iteration 1100 / 1600: loss 2.113089\n",
      "iteration 1200 / 1600: loss 2.189652\n",
      "iteration 1300 / 1600: loss 2.153616\n",
      "iteration 1400 / 1600: loss 2.175446\n",
      "iteration 1500 / 1600: loss 2.159279\n",
      "lr 5.000000e-08 reg 1.000000e+04 train accuracy: 0.257918 val accuracy: 0.261000\n",
      "lr 5.000000e-08 reg 5.000000e+04 train accuracy: 0.330510 val accuracy: 0.341000\n",
      "lr 5.000000e-08 reg 1.000000e+05 train accuracy: 0.311878 val accuracy: 0.326000\n",
      "lr 1.000000e-07 reg 1.000000e+04 train accuracy: 0.339898 val accuracy: 0.360000\n",
      "lr 1.000000e-07 reg 5.000000e+04 train accuracy: 0.329612 val accuracy: 0.346000\n",
      "lr 1.000000e-07 reg 1.000000e+05 train accuracy: 0.300898 val accuracy: 0.322000\n",
      "lr 5.000000e-07 reg 1.000000e+04 train accuracy: 0.376510 val accuracy: 0.385000\n",
      "lr 5.000000e-07 reg 5.000000e+04 train accuracy: 0.325939 val accuracy: 0.336000\n",
      "lr 5.000000e-07 reg 1.000000e+05 train accuracy: 0.312776 val accuracy: 0.334000\n",
      "best validation accuracy achieved during cross-validation: 0.385000\n"
     ]
    }
   ],
   "source": [
    "# Use the validation set to tune hyperparameters (regularization strength and\n",
    "# learning rate). You should experiment with different ranges for the learning\n",
    "# rates and regularization strengths; if you are careful you should be able to\n",
    "# get a classification accuracy of over 0.35 on the validation set.\n",
    "from cs231n.classifiers import Softmax\n",
    "results = {}\n",
    "best_val = -1\n",
    "best_softmax = None\n",
    "learning_rates = [0.5e-7, 1e-7, 5e-7]\n",
    "regularization_strengths = [1e4, 5e4, 1e5]\n",
    "\n",
    "for lr in learning_rates:\n",
    "    for reg in regularization_strengths:\n",
    "        sfm = Softmax()\n",
    "        loss_hist = sfm.train(X_train, y_train, learning_rate=lr, reg=reg,\n",
    "                      num_iters=1600, verbose=True) \n",
    "        y_train_pred = sfm.predict(X_train)\n",
    "        y_train_accuracy= np.mean(y_train == y_train_pred)\n",
    "        y_val_pred = sfm.predict(X_val)\n",
    "        y_val_accuracy= np.mean(y_val == y_val_pred)\n",
    "        if y_val_accuracy>best_val:\n",
    "           best_val= y_val_accuracy\n",
    "           best_softmax=sfm\n",
    "        results[(lr, reg)]=[y_train_accuracy,y_val_accuracy]\n",
    "\n",
    "################################################################################\n",
    "# TODO:                                                                        #\n",
    "# Use the validation set to set the learning rate and regularization strength. #\n",
    "# This should be identical to the validation that you did for the SVM; save    #\n",
    "# the best trained softmax classifer in best_softmax.                          #\n",
    "################################################################################\n",
    "#pass\n",
    "################################################################################\n",
    "#                              END OF YOUR CODE                                #\n",
    "################################################################################\n",
    "    \n",
    "# Print out results.\n",
    "for lr, reg in sorted(results):\n",
    "    train_accuracy, val_accuracy = results[(lr, reg)]\n",
    "    print 'lr %e reg %e train accuracy: %f val accuracy: %f' % (\n",
    "                lr, reg, train_accuracy, val_accuracy)\n",
    "    \n",
    "print 'best validation accuracy achieved during cross-validation: %f' % best_val"
   ]
  },
  {
   "cell_type": "code",
   "execution_count": 90,
   "metadata": {
    "collapsed": false
   },
   "outputs": [
    {
     "name": "stdout",
     "output_type": "stream",
     "text": [
      "softmax on raw pixels final test set accuracy: 0.379000\n"
     ]
    }
   ],
   "source": [
    "# evaluate on test set\n",
    "# Evaluate the best softmax on test set\n",
    "y_test_pred = best_softmax.predict(X_test)\n",
    "test_accuracy = np.mean(y_test == y_test_pred)\n",
    "print 'softmax on raw pixels final test set accuracy: %f' % (test_accuracy, )"
   ]
  },
  {
   "cell_type": "code",
   "execution_count": 91,
   "metadata": {
    "collapsed": false
   },
   "outputs": [
    {
     "data": {
      "image/png": "[encoded data removed]",
      "text/plain": [
       "<matplotlib.figure.Figure at 0x7fbc95b4ae90>"
      ]
     },
     "metadata": {},
     "output_type": "display_data"
    }
   ],
   "source": [
    "# Visualize the learned weights for each class\n",
    "w = best_softmax.W[:-1,:] # strip out the bias\n",
    "w = w.reshape(32, 32, 3, 10)\n",
    "\n",
    "w_min, w_max = np.min(w), np.max(w)\n",
    "\n",
    "classes = ['plane', 'car', 'bird', 'cat', 'deer', 'dog', 'frog', 'horse', 'ship', 'truck']\n",
    "for i in xrange(10):\n",
    "  plt.subplot(2, 5, i + 1)\n",
    "  \n",
    "  # Rescale the weights to be between 0 and 255\n",
    "  wimg = 255.0 * (w[:, :, :, i].squeeze() - w_min) / (w_max - w_min)\n",
    "  plt.imshow(wimg.astype('uint8'))\n",
    "  plt.axis('off')\n",
    "  plt.title(classes[i])"
   ]
  },
  {
   "cell_type": "code",
   "execution_count": null,
   "metadata": {
    "collapsed": true
   },
   "outputs": [],
   "source": []
  }
 ],
 "metadata": {
  "kernelspec": {
   "display_name": "Python 2",
   "language": "python",
   "name": "python2"
  },
  "language_info": {
   "codemirror_mode": {
    "name": "ipython",
    "version": 2
   },
   "file_extension": ".py",
   "mimetype": "text/x-python",
   "name": "python",
   "nbconvert_exporter": "python",
   "pygments_lexer": "ipython2",
   "version": "2.7.11"
  }
 },
 "nbformat": 4,
 "nbformat_minor": 0
}
